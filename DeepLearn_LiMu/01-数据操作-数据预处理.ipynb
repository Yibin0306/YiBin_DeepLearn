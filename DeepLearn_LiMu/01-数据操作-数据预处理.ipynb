{
 "cells": [
  {
   "cell_type": "markdown",
   "id": "938eaaf1c03b6a19",
   "metadata": {},
   "source": [
    "# 1. N维数组\n",
    "    N维数组是机器学习和神经网络的主要数据结构\n",
    "    0-d(标量)     1-d(向量)         2-d(矩阵)         3-d(图片)\n",
    "      1.0      [1.0,2.7,3.4]    [[1.0,2.7,3.4]     (宽*高*通道)\n",
    "                                [1.0,2.7,3.4]\n",
    "                                [1.0,2.7,3.4]]\n",
    "    ----------------------------------------------------------\n",
    "            4-d                     5-d\n",
    "    (批量大小*宽*高*通道)     (批量大小*时间*宽*高*通道)"
   ]
  },
  {
   "metadata": {},
   "cell_type": "markdown",
   "source": [
    "# 2. 创建数组\n",
    "    创建数组需要：形状、数据类型、元素值。\n",
    "    形状：例如3×4矩阵\n",
    "    每个元素的数据类型：例如32位浮点数\n",
    "    每个元素的值，例如全是0，或者随机数"
   ],
   "id": "daf9e236407c441d"
  },
  {
   "metadata": {},
   "cell_type": "markdown",
   "source": [
    "# 3. 访问元素\n",
    "    可以根据切片，或者间隔步长访问元素。\n",
    "    [::3,::2]是每隔3行、2列访问。"
   ],
   "id": "4147f9cbead84909"
  },
  {
   "metadata": {},
   "cell_type": "markdown",
   "source": [
    "# 4. 张量数据操作\n",
    "## 4.1 导入torch库\n",
    "    虽然库为PyTorch库，但应该导入torch，而不是pytorch"
   ],
   "id": "524466a583bc40b9"
  },
  {
   "metadata": {
    "ExecuteTime": {
     "end_time": "2025-07-21T03:11:38.576552Z",
     "start_time": "2025-07-21T03:11:38.561919Z"
    }
   },
   "cell_type": "code",
   "source": [
    "import torch\n",
    "x = torch.arange(12) # 初始化一个0-11的张量，张量表示一个数值组成的数组，这个数组可能有多个维度\n",
    "x"
   ],
   "id": "67ae195c33079f22",
   "outputs": [
    {
     "data": {
      "text/plain": [
       "tensor([ 0,  1,  2,  3,  4,  5,  6,  7,  8,  9, 10, 11])"
      ]
     },
     "execution_count": 44,
     "metadata": {},
     "output_type": "execute_result"
    }
   ],
   "execution_count": 44
  },
  {
   "metadata": {},
   "cell_type": "markdown",
   "source": [
    "## 4.2 访问张量形状\n",
    "    可以通过张量的shape属性来访问张量的形状和张量中元素的总数。"
   ],
   "id": "fc1ff9463863f868"
  },
  {
   "metadata": {
    "ExecuteTime": {
     "end_time": "2025-08-15T03:38:07.814320Z",
     "start_time": "2025-08-15T03:38:02.280976Z"
    }
   },
   "cell_type": "code",
   "source": [
    "import torch\n",
    "x = torch.arange(12) # 初始化一个0-11的张量\n",
    "x.shape # 张量的形状"
   ],
   "id": "9f09f1c464c7e8ad",
   "outputs": [
    {
     "data": {
      "text/plain": [
       "torch.Size([12])"
      ]
     },
     "execution_count": 1,
     "metadata": {},
     "output_type": "execute_result"
    }
   ],
   "execution_count": 1
  },
  {
   "metadata": {
    "ExecuteTime": {
     "end_time": "2025-07-21T03:11:38.655280Z",
     "start_time": "2025-07-21T03:11:38.640653Z"
    }
   },
   "cell_type": "code",
   "source": [
    "import torch\n",
    "x = torch.arange(12) # 初始化一个0-11的张量\n",
    "x.numel() # 张量中元素的个数"
   ],
   "id": "2b27816bce9aadc1",
   "outputs": [
    {
     "data": {
      "text/plain": [
       "12"
      ]
     },
     "execution_count": 46,
     "metadata": {},
     "output_type": "execute_result"
    }
   ],
   "execution_count": 46
  },
  {
   "metadata": {},
   "cell_type": "markdown",
   "source": [
    "## 4.3 改变张量形状\n",
    "    要改变一个张量的形状而不改变元素数量和元素值，可以调用reshape函数。"
   ],
   "id": "14bcf54e1a665cf1"
  },
  {
   "metadata": {
    "ExecuteTime": {
     "end_time": "2025-07-21T03:11:38.687082Z",
     "start_time": "2025-07-21T03:11:38.672493Z"
    }
   },
   "cell_type": "code",
   "source": [
    "import torch\n",
    "x = torch.arange(12) # 初始化一个0-11的张量\n",
    "x = x.reshape(3,4) # 一维张量改为3行四列的张量\n",
    "x"
   ],
   "id": "a2bbf249d800785",
   "outputs": [
    {
     "data": {
      "text/plain": [
       "tensor([[ 0,  1,  2,  3],\n",
       "        [ 4,  5,  6,  7],\n",
       "        [ 8,  9, 10, 11]])"
      ]
     },
     "execution_count": 47,
     "metadata": {},
     "output_type": "execute_result"
    }
   ],
   "execution_count": 47
  },
  {
   "metadata": {},
   "cell_type": "markdown",
   "source": [
    "## 4.4 创建全0、全1张量\n",
    "    使用全0、全1、其他常量或者从特定分布中随即采样的数字"
   ],
   "id": "e8c0b371058d5b24"
  },
  {
   "metadata": {
    "ExecuteTime": {
     "end_time": "2025-07-21T03:11:38.702664Z",
     "start_time": "2025-07-21T03:11:38.696369Z"
    }
   },
   "cell_type": "code",
   "source": "torch.zeros((2, 3, 4))",
   "id": "63802e07aacb4d98",
   "outputs": [
    {
     "data": {
      "text/plain": [
       "tensor([[[0., 0., 0., 0.],\n",
       "         [0., 0., 0., 0.],\n",
       "         [0., 0., 0., 0.]],\n",
       "\n",
       "        [[0., 0., 0., 0.],\n",
       "         [0., 0., 0., 0.],\n",
       "         [0., 0., 0., 0.]]])"
      ]
     },
     "execution_count": 48,
     "metadata": {},
     "output_type": "execute_result"
    }
   ],
   "execution_count": 48
  },
  {
   "metadata": {
    "ExecuteTime": {
     "end_time": "2025-07-21T03:11:38.781427Z",
     "start_time": "2025-07-21T03:11:38.765423Z"
    }
   },
   "cell_type": "code",
   "source": "torch.ones((2, 3, 4))",
   "id": "106713aff520a95f",
   "outputs": [
    {
     "data": {
      "text/plain": [
       "tensor([[[1., 1., 1., 1.],\n",
       "         [1., 1., 1., 1.],\n",
       "         [1., 1., 1., 1.]],\n",
       "\n",
       "        [[1., 1., 1., 1.],\n",
       "         [1., 1., 1., 1.],\n",
       "         [1., 1., 1., 1.]]])"
      ]
     },
     "execution_count": 49,
     "metadata": {},
     "output_type": "execute_result"
    }
   ],
   "execution_count": 49
  },
  {
   "metadata": {},
   "cell_type": "markdown",
   "source": [
    "## 4.5 创建特定值张量\n",
    "    通过提供包含数值的Python列表（或嵌套列表）来为所需张量中的每个元素赋予确定值。"
   ],
   "id": "1bbe812f9f25afa6"
  },
  {
   "metadata": {
    "ExecuteTime": {
     "end_time": "2025-07-21T03:11:39.108473Z",
     "start_time": "2025-07-21T03:11:39.099010Z"
    }
   },
   "cell_type": "code",
   "source": "torch.tensor([[2,1,4,3],[1,2,3,4],[4,3,2,1]])# 二维tensor",
   "id": "c70c1d007d8ec6de",
   "outputs": [
    {
     "data": {
      "text/plain": [
       "tensor([[2, 1, 4, 3],\n",
       "        [1, 2, 3, 4],\n",
       "        [4, 3, 2, 1]])"
      ]
     },
     "execution_count": 50,
     "metadata": {},
     "output_type": "execute_result"
    }
   ],
   "execution_count": 50
  },
  {
   "metadata": {
    "ExecuteTime": {
     "end_time": "2025-07-21T03:11:39.262650Z",
     "start_time": "2025-07-21T03:11:39.248543Z"
    }
   },
   "cell_type": "code",
   "source": "torch.tensor([[[2,1,4,3],[1,2,3,4],[4,3,2,1]]]) # 三维tensor",
   "id": "8d651b209889049f",
   "outputs": [
    {
     "data": {
      "text/plain": [
       "tensor([[[2, 1, 4, 3],\n",
       "         [1, 2, 3, 4],\n",
       "         [4, 3, 2, 1]]])"
      ]
     },
     "execution_count": 51,
     "metadata": {},
     "output_type": "execute_result"
    }
   ],
   "execution_count": 51
  },
  {
   "metadata": {
    "ExecuteTime": {
     "end_time": "2025-07-21T03:11:39.324270Z",
     "start_time": "2025-07-21T03:11:39.309537Z"
    }
   },
   "cell_type": "code",
   "source": [
    "import torch\n",
    "y = torch.tensor([[2,1,4,3],[1,2,3,4],[4,3,2,1]]) # 二维tensor\n",
    "z = torch.tensor([[[2,1,4,3],[1,2,3,4],[4,3,2,1]]]) # 三维tensor\n",
    "print(y.shape)\n",
    "print(z.shape)"
   ],
   "id": "6bfeaa1ea4e6084a",
   "outputs": [
    {
     "name": "stdout",
     "output_type": "stream",
     "text": [
      "torch.Size([3, 4])\n",
      "torch.Size([1, 3, 4])\n"
     ]
    }
   ],
   "execution_count": 52
  },
  {
   "metadata": {},
   "cell_type": "markdown",
   "source": [
    "## 4.6 张量运算操作\n",
    "    常见的标准算术运算符(+、-、*、/、和 **)都可以被升级为按元素运算。"
   ],
   "id": "b9ed239d835245e"
  },
  {
   "metadata": {
    "ExecuteTime": {
     "end_time": "2025-07-21T03:11:39.371173Z",
     "start_time": "2025-07-21T03:11:39.356479Z"
    }
   },
   "cell_type": "code",
   "source": [
    "import torch\n",
    "x = torch.tensor([1.0,2,4,8])\n",
    "y = torch.tensor([2,2,2,2])\n",
    "print(x + y)\n",
    "print(x - y)\n",
    "print(x * y)\n",
    "print(x / y)\n",
    "print(x ** y)# **运算符是求幂运算"
   ],
   "id": "e682a78d5fc490cd",
   "outputs": [
    {
     "name": "stdout",
     "output_type": "stream",
     "text": [
      "tensor([ 3.,  4.,  6., 10.])\n",
      "tensor([-1.,  0.,  2.,  6.])\n",
      "tensor([ 2.,  4.,  8., 16.])\n",
      "tensor([0.5000, 1.0000, 2.0000, 4.0000])\n",
      "tensor([ 1.,  4., 16., 64.])\n"
     ]
    }
   ],
   "execution_count": 53
  },
  {
   "metadata": {},
   "cell_type": "markdown",
   "source": "    对每个元素应用更多的计算。",
   "id": "873f616399211f33"
  },
  {
   "metadata": {
    "ExecuteTime": {
     "end_time": "2025-07-21T03:11:39.418060Z",
     "start_time": "2025-07-21T03:11:39.388381Z"
    }
   },
   "cell_type": "code",
   "source": [
    "import torch\n",
    "x = torch.tensor([1.0,2,4,8])\n",
    "x = torch.exp(x) # e的x次方\n",
    "print(x)"
   ],
   "id": "1204298384297d7e",
   "outputs": [
    {
     "name": "stdout",
     "output_type": "stream",
     "text": [
      "tensor([2.7183e+00, 7.3891e+00, 5.4598e+01, 2.9810e+03])\n"
     ]
    }
   ],
   "execution_count": 54
  },
  {
   "metadata": {},
   "cell_type": "markdown",
   "source": [
    "## 4.7 张量合并操作\n",
    "    可以把多个张量结合在一起"
   ],
   "id": "1fa926c42577bca1"
  },
  {
   "metadata": {
    "ExecuteTime": {
     "end_time": "2025-07-21T03:11:39.448595Z",
     "start_time": "2025-07-21T03:11:39.434963Z"
    }
   },
   "cell_type": "code",
   "source": [
    "import torch\n",
    "x = torch.arange(12,dtype=torch.float32).reshape((3,4))\n",
    "y = torch.tensor([[2.0,1,4,3],[1,2,3,4],[4,3,2,1]])\n",
    "m = torch.cat([x,y],dim=0) # 按行合并起来\n",
    "n = torch.cat([x,y],dim=1) # 按列合并起来\n",
    "print(m)\n",
    "print(n)"
   ],
   "id": "b3ce14c712778bf6",
   "outputs": [
    {
     "name": "stdout",
     "output_type": "stream",
     "text": [
      "tensor([[ 0.,  1.,  2.,  3.],\n",
      "        [ 4.,  5.,  6.,  7.],\n",
      "        [ 8.,  9., 10., 11.],\n",
      "        [ 2.,  1.,  4.,  3.],\n",
      "        [ 1.,  2.,  3.,  4.],\n",
      "        [ 4.,  3.,  2.,  1.]])\n",
      "tensor([[ 0.,  1.,  2.,  3.,  2.,  1.,  4.,  3.],\n",
      "        [ 4.,  5.,  6.,  7.,  1.,  2.,  3.,  4.],\n",
      "        [ 8.,  9., 10., 11.,  4.,  3.,  2.,  1.]])\n"
     ]
    }
   ],
   "execution_count": 55
  },
  {
   "metadata": {},
   "cell_type": "markdown",
   "source": [
    "## 4.8 张量逻辑运算\n",
    "    通过逻辑运算符构建二元张量。"
   ],
   "id": "c4d3ec6512570f02"
  },
  {
   "metadata": {
    "ExecuteTime": {
     "end_time": "2025-07-21T03:11:39.479854Z",
     "start_time": "2025-07-21T03:11:39.465739Z"
    }
   },
   "cell_type": "code",
   "source": [
    "x = torch.arange(12,dtype=torch.float32).reshape((3,4))\n",
    "y = torch.tensor([[2.0,1,4,3],[1,2,3,4],[4,3,2,1]])\n",
    "print(x)\n",
    "print(y)\n",
    "print(x == y)"
   ],
   "id": "23baca925e030b2b",
   "outputs": [
    {
     "name": "stdout",
     "output_type": "stream",
     "text": [
      "tensor([[ 0.,  1.,  2.,  3.],\n",
      "        [ 4.,  5.,  6.,  7.],\n",
      "        [ 8.,  9., 10., 11.]])\n",
      "tensor([[2., 1., 4., 3.],\n",
      "        [1., 2., 3., 4.],\n",
      "        [4., 3., 2., 1.]])\n",
      "tensor([[False,  True, False,  True],\n",
      "        [False, False, False, False],\n",
      "        [False, False, False, False]])\n"
     ]
    }
   ],
   "execution_count": 56
  },
  {
   "metadata": {},
   "cell_type": "markdown",
   "source": [
    "## 4.9 张量累加运算\n",
    "    对张量中所有元素进行求和会产生一个只有一个元素的张量。"
   ],
   "id": "cd46bacf12fcd915"
  },
  {
   "metadata": {
    "ExecuteTime": {
     "end_time": "2025-07-21T03:11:39.511466Z",
     "start_time": "2025-07-21T03:11:39.496854Z"
    }
   },
   "cell_type": "code",
   "source": [
    "import torch\n",
    "x = torch.arange(12,dtype=torch.float32).reshape((3,4))\n",
    "x.sum()"
   ],
   "id": "e093ae6750479ffd",
   "outputs": [
    {
     "data": {
      "text/plain": [
       "tensor(66.)"
      ]
     },
     "execution_count": 57,
     "metadata": {},
     "output_type": "execute_result"
    }
   ],
   "execution_count": 57
  },
  {
   "metadata": {},
   "cell_type": "markdown",
   "source": [
    "## 4.10 张量广播运算\n",
    "    即使形状不同，仍然可以通过调用广播机制(broadcasting mechanism) 来执行按元素操作。"
   ],
   "id": "fc236fcb447edb89"
  },
  {
   "metadata": {
    "ExecuteTime": {
     "end_time": "2025-07-21T03:11:39.542653Z",
     "start_time": "2025-07-21T03:11:39.528603Z"
    }
   },
   "cell_type": "code",
   "source": [
    "import torch\n",
    "a = torch.arange(3).reshape((3, 1))\n",
    "b = torch.arange(2).reshape((1, 2))\n",
    "print(a)\n",
    "print(b)\n",
    "print(a+b) # a会复制出一个3*2的矩阵，b复制出一个3*2的矩阵，然后再相加，会得到一个3*2矩阵"
   ],
   "id": "db139ca7e18486d7",
   "outputs": [
    {
     "name": "stdout",
     "output_type": "stream",
     "text": [
      "tensor([[0],\n",
      "        [1],\n",
      "        [2]])\n",
      "tensor([[0, 1]])\n",
      "tensor([[0, 1],\n",
      "        [1, 2],\n",
      "        [2, 3]])\n"
     ]
    }
   ],
   "execution_count": 58
  },
  {
   "metadata": {},
   "cell_type": "markdown",
   "source": [
    "## 4.11 张量访问运算\n",
    "    可以用[-1]选择最后一个元素，可以用[1:3]选择第二个和第三个元素。"
   ],
   "id": "35b0adf9e1a7e37d"
  },
  {
   "metadata": {
    "ExecuteTime": {
     "end_time": "2025-07-21T03:11:39.589133Z",
     "start_time": "2025-07-21T03:11:39.575139Z"
    }
   },
   "cell_type": "code",
   "source": [
    "import torch\n",
    "x = torch.arange(12,dtype=torch.float32).reshape((3,4))\n",
    "print(x[-1])\n",
    "print(x[1:3])"
   ],
   "id": "85d148a27598c87e",
   "outputs": [
    {
     "name": "stdout",
     "output_type": "stream",
     "text": [
      "tensor([ 8.,  9., 10., 11.])\n",
      "tensor([[ 4.,  5.,  6.,  7.],\n",
      "        [ 8.,  9., 10., 11.]])\n"
     ]
    }
   ],
   "execution_count": 59
  },
  {
   "metadata": {},
   "cell_type": "markdown",
   "source": [
    "## 4.12 张量元素改写\n",
    "    除读取外，还可以通过指定索引来将元素写入矩阵。"
   ],
   "id": "4f19a92a67730437"
  },
  {
   "metadata": {
    "ExecuteTime": {
     "end_time": "2025-07-21T03:11:39.635282Z",
     "start_time": "2025-07-21T03:11:39.621345Z"
    }
   },
   "cell_type": "code",
   "source": [
    "import torch\n",
    "x = torch.arange(12,dtype=torch.float32).reshape((3,4))\n",
    "x[1,2] = 9\n",
    "print(x)"
   ],
   "id": "26282dcc7ec86b79",
   "outputs": [
    {
     "name": "stdout",
     "output_type": "stream",
     "text": [
      "tensor([[ 0.,  1.,  2.,  3.],\n",
      "        [ 4.,  5.,  9.,  7.],\n",
      "        [ 8.,  9., 10., 11.]])\n"
     ]
    }
   ],
   "execution_count": 60
  },
  {
   "metadata": {},
   "cell_type": "markdown",
   "source": "    为多个元素赋值相同的值，只需要索引所有元素，然后为它们赋值。",
   "id": "674969894f427084"
  },
  {
   "metadata": {
    "ExecuteTime": {
     "end_time": "2025-07-21T03:11:39.666521Z",
     "start_time": "2025-07-21T03:11:39.651918Z"
    }
   },
   "cell_type": "code",
   "source": [
    "x[0:2,:] = 12\n",
    "print(x)"
   ],
   "id": "1951937076f5d980",
   "outputs": [
    {
     "name": "stdout",
     "output_type": "stream",
     "text": [
      "tensor([[12., 12., 12., 12.],\n",
      "        [12., 12., 12., 12.],\n",
      "        [ 8.,  9., 10., 11.]])\n"
     ]
    }
   ],
   "execution_count": 61
  },
  {
   "metadata": {},
   "cell_type": "markdown",
   "source": [
    "## 4.13 张量内存变化\n",
    "    运行一些操作可能会导致为新结果分配内容。"
   ],
   "id": "860fb3fce431f479"
  },
  {
   "metadata": {
    "ExecuteTime": {
     "end_time": "2025-07-21T03:11:39.698318Z",
     "start_time": "2025-07-21T03:11:39.683548Z"
    }
   },
   "cell_type": "code",
   "source": [
    "import torch\n",
    "x = torch.arange(12,dtype=torch.float32).reshape((3,4))\n",
    "y = torch.tensor([[2.0,1,4,3],[1,2,3,4],[4,3,2,1]])\n",
    "before = id(y) # 和c++中指针类似\n",
    "y = y + x\n",
    "id(y) == before  # 运行操作后，赋值后的y的id和原来的id不一样"
   ],
   "id": "f878c75ab1b52825",
   "outputs": [
    {
     "data": {
      "text/plain": [
       "False"
      ]
     },
     "execution_count": 62,
     "metadata": {},
     "output_type": "execute_result"
    }
   ],
   "execution_count": 62
  },
  {
   "metadata": {
    "ExecuteTime": {
     "end_time": "2025-07-21T03:11:39.728682Z",
     "start_time": "2025-07-21T03:11:39.714680Z"
    }
   },
   "cell_type": "code",
   "source": [
    "z = torch.zeros_like(y) # z 的数据类型、尺寸和y一样，里面的元素全为0\n",
    "print('id(z):', id(z))\n",
    "z[:] = x + y\n",
    "print('id(z):', id(z))"
   ],
   "id": "b40d98cc8905f98b",
   "outputs": [
    {
     "name": "stdout",
     "output_type": "stream",
     "text": [
      "id(z): 2585726000160\n",
      "id(z): 2585726000160\n"
     ]
    }
   ],
   "execution_count": 63
  },
  {
   "metadata": {},
   "cell_type": "markdown",
   "source": [
    "    如果在后续计算中没有重复使用X，即内存不会过多复制，也可以使用X[:] = X + Y 或 X += Y 来减少操作的\n",
    "    内存开销。"
   ],
   "id": "940d57b526dc2eff"
  },
  {
   "metadata": {
    "ExecuteTime": {
     "end_time": "2025-07-21T03:11:39.760173Z",
     "start_time": "2025-07-21T03:11:39.745820Z"
    }
   },
   "cell_type": "code",
   "source": [
    "before = id(x)\n",
    "x += y\n",
    "print(id(x) == before)"
   ],
   "id": "fc0fec88d7f217cb",
   "outputs": [
    {
     "name": "stdout",
     "output_type": "stream",
     "text": [
      "True\n"
     ]
    }
   ],
   "execution_count": 64
  },
  {
   "metadata": {},
   "cell_type": "markdown",
   "source": [
    "## 4.14 张量转Numpy\n",
    "    张量转 NumPy。"
   ],
   "id": "50586edb48d34ab5"
  },
  {
   "metadata": {
    "ExecuteTime": {
     "end_time": "2025-07-25T03:43:34.379813Z",
     "start_time": "2025-07-25T03:43:31.981539Z"
    }
   },
   "cell_type": "code",
   "source": [
    "import torch\n",
    "x = torch.arange(12,dtype=torch.float32).reshape((3,4))\n",
    "a = x.numpy()\n",
    "b = torch.tensor(a)\n",
    "print(type(x))\n",
    "print(type(a))\n",
    "print(type(b))"
   ],
   "id": "ec162b75fdec5311",
   "outputs": [
    {
     "name": "stdout",
     "output_type": "stream",
     "text": [
      "<class 'torch.Tensor'>\n",
      "<class 'numpy.ndarray'>\n",
      "<class 'torch.Tensor'>\n"
     ]
    }
   ],
   "execution_count": 1
  },
  {
   "metadata": {},
   "cell_type": "markdown",
   "source": "    将大小为1的张量转为 Python 标量。",
   "id": "cb8ddcb3168f7941"
  },
  {
   "metadata": {
    "ExecuteTime": {
     "end_time": "2025-07-21T03:11:39.854591Z",
     "start_time": "2025-07-21T03:11:39.839786Z"
    }
   },
   "cell_type": "code",
   "source": [
    "a = torch.tensor([3.5])\n",
    "print(a)\n",
    "print(a.item())\n",
    "print(float(a))\n",
    "print(int(a))"
   ],
   "id": "8406b43b68319c32",
   "outputs": [
    {
     "name": "stdout",
     "output_type": "stream",
     "text": [
      "tensor([3.5000])\n",
      "3.5\n",
      "3.5\n",
      "3\n"
     ]
    }
   ],
   "execution_count": 66
  },
  {
   "metadata": {},
   "cell_type": "markdown",
   "source": [
    "# 5. 数据预处理\n",
    "## 5.1 创建数据集\n",
    "    创建一个人工数据集，并存储在csv(逗号分隔符)文件。"
   ],
   "id": "fcd0a44ba218a635"
  },
  {
   "metadata": {
    "ExecuteTime": {
     "end_time": "2025-07-21T03:11:39.869844Z",
     "start_time": "2025-07-21T03:11:39.863071Z"
    }
   },
   "cell_type": "code",
   "source": [
    "import os\n",
    "os.makedirs(os.path.join('.', 'data'), exist_ok=True) # 相对路径，创建文件夹\n",
    "data_file = os.path.join('.', 'data', 'house.csv')\n",
    "print(data_file)\n",
    "with open(data_file, 'w') as f:\n",
    "    f.write('NumRooms, Alley,Price\\n') # 列名\n",
    "    f.write('NA, Pava,127500\\n') # 每行表示一个数据样本\n",
    "    f.write('2,NA,106000\\n')\n",
    "    f.write('4,NA,178100\\n')\n",
    "    f.write('NA,NA,140000\\n')"
   ],
   "id": "251ce752246bc1cd",
   "outputs": [
    {
     "name": "stdout",
     "output_type": "stream",
     "text": [
      ".\\data\\house.csv\n"
     ]
    }
   ],
   "execution_count": 67
  },
  {
   "metadata": {},
   "cell_type": "markdown",
   "source": [
    "## 5.2 加载数据集\n",
    "    从创建的csv文件中加载原始数据集。"
   ],
   "id": "f3a9bb10a9b7a5da"
  },
  {
   "metadata": {
    "ExecuteTime": {
     "end_time": "2025-07-21T03:11:39.916010Z",
     "start_time": "2025-07-21T03:11:39.902060Z"
    }
   },
   "cell_type": "code",
   "source": [
    "# 如果没有安装pandas，只需取消对以下行的注释：\n",
    "# !pip install pandas\n",
    "import pandas as pd\n",
    "data = pd.read_csv(data_file)\n",
    "print(data)"
   ],
   "id": "21c8c74b71640ca",
   "outputs": [
    {
     "name": "stdout",
     "output_type": "stream",
     "text": [
      "   NumRooms  Alley   Price\n",
      "0       NaN   Pava  127500\n",
      "1       2.0    NaN  106000\n",
      "2       4.0    NaN  178100\n",
      "3       NaN    NaN  140000\n"
     ]
    }
   ],
   "execution_count": 68
  },
  {
   "metadata": {},
   "cell_type": "markdown",
   "source": [
    "## 5.3 预处理数据集\n",
    "    为了处理缺失的数据，典型的方法包括插值和删除，这里，我们考虑插值。"
   ],
   "id": "8d9d0fb214039bde"
  },
  {
   "metadata": {
    "ExecuteTime": {
     "end_time": "2025-07-21T03:11:39.962849Z",
     "start_time": "2025-07-21T03:11:39.949872Z"
    }
   },
   "cell_type": "code",
   "source": [
    "# 如果没有安装pandas，只需取消对以下行的注释：\n",
    "# !pip install pandas\n",
    "import pandas as pd\n",
    "import os\n",
    "os.makedirs(os.path.join('.', 'data'), exist_ok=True) # 相对路径，创建文件夹\n",
    "data_file = os.path.join('.', 'data', 'house.csv')\n",
    "print(data_file)\n",
    "with open(data_file, 'w') as f:\n",
    "    f.write('NumRooms, Alley,Price\\n') # 列名\n",
    "    f.write('NA, Pava,127500\\n') # 每行表示一个数据样本\n",
    "    f.write('2,NA,106000\\n')\n",
    "    f.write('4,NA,178100\\n')\n",
    "    f.write('NA,NA,140000\\n')\n",
    "\n",
    "data = pd.read_csv(data_file)\n",
    "print(data)\n",
    "\n",
    "inputs, outputs = data.iloc[:, 0:2], data.iloc[:, 2]\n",
    "inputs = inputs.fillna(inputs.mean(numeric_only = True)) # 对 NaN 值用均值插值,numeric_only = True 显示声明处理数值列\n",
    "print(inputs)"
   ],
   "id": "eac15624415f8305",
   "outputs": [
    {
     "name": "stdout",
     "output_type": "stream",
     "text": [
      ".\\data\\house.csv\n",
      "   NumRooms  Alley   Price\n",
      "0       NaN   Pava  127500\n",
      "1       2.0    NaN  106000\n",
      "2       4.0    NaN  178100\n",
      "3       NaN    NaN  140000\n",
      "   NumRooms  Alley\n",
      "0       3.0   Pava\n",
      "1       2.0    NaN\n",
      "2       4.0    NaN\n",
      "3       3.0    NaN\n"
     ]
    }
   ],
   "execution_count": 69
  },
  {
   "metadata": {},
   "cell_type": "markdown",
   "source": "    对于inputs中的类别值或离散值，将“NaN”视为一个类别。",
   "id": "3e91b57a42ad4e17"
  },
  {
   "metadata": {
    "ExecuteTime": {
     "end_time": "2025-07-21T03:11:40.009054Z",
     "start_time": "2025-07-21T03:11:39.994152Z"
    }
   },
   "cell_type": "code",
   "source": [
    "inputs = pd.get_dummies(inputs, dummy_na=True, dtype=float) # dummy_na=True 使得 Alley中的每种类型为一列，在各自的列中该类型为1，其余类型为0\n",
    "inputs = inputs.astype(float)\n",
    "print(inputs) # Alley列中，如果之前值为Pave，则新赋值为1，如果之前值为Nan，则新赋值为0"
   ],
   "id": "7f3f0506508a502f",
   "outputs": [
    {
     "name": "stdout",
     "output_type": "stream",
     "text": [
      "   NumRooms   Alley_ Pava   Alley_nan\n",
      "0       3.0           1.0         0.0\n",
      "1       2.0           0.0         1.0\n",
      "2       4.0           0.0         1.0\n",
      "3       3.0           0.0         1.0\n"
     ]
    }
   ],
   "execution_count": 70
  },
  {
   "metadata": {},
   "cell_type": "markdown",
   "source": [
    "## 5.4 数据集转张量\n",
    "    inputs 和 outputs 中的所有条目都是数值类型，它们可以转换为张量格式。"
   ],
   "id": "ee172f9c9882eefa"
  },
  {
   "metadata": {
    "ExecuteTime": {
     "end_time": "2025-07-21T03:11:40.040250Z",
     "start_time": "2025-07-21T03:11:40.025833Z"
    }
   },
   "cell_type": "code",
   "source": [
    "import torch\n",
    "x, y = torch.tensor(inputs.values), torch.tensor(outputs.values)\n",
    "print(x,y)"
   ],
   "id": "b1fc145ef0c2edc5",
   "outputs": [
    {
     "name": "stdout",
     "output_type": "stream",
     "text": [
      "tensor([[3., 1., 0.],\n",
      "        [2., 0., 1.],\n",
      "        [4., 0., 1.],\n",
      "        [3., 0., 1.]], dtype=torch.float64) tensor([127500, 106000, 178100, 140000])\n"
     ]
    }
   ],
   "execution_count": 71
  }
 ],
 "metadata": {
  "kernelspec": {
   "display_name": "Python 3 (ipykernel)",
   "language": "python",
   "name": "python3"
  },
  "language_info": {
   "codemirror_mode": {
    "name": "ipython",
    "version": 3
   },
   "file_extension": ".py",
   "mimetype": "text/x-python",
   "name": "python",
   "nbconvert_exporter": "python",
   "pygments_lexer": "ipython3",
   "version": "3.9.23"
  }
 },
 "nbformat": 4,
 "nbformat_minor": 5
}
