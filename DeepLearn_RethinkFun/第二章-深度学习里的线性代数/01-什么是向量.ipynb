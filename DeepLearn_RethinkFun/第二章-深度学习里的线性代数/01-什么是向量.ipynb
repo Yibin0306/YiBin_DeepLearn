{
 "cells": [
  {
   "metadata": {},
   "cell_type": "markdown",
   "source": [
    "#           标量和向量的定义\n",
    "    标量 (Scalar): 单一数值，如年龄、体重\n",
    "    物理中的向量: 表示大小和方向（自由向量），存在于2D/3D空间\n",
    "![](Learn_Pictures/img.png)\n",
    "![](Learn_Pictures/img_1.png)"
   ],
   "id": "6d7bf5d580ec229e"
  },
  {
   "metadata": {},
   "cell_type": "markdown",
   "source": [
    "    机器学习中的向量: 有序数值表示特征（如年龄、身高、体重），顺序至关重要\n",
    "![](Learn_Pictures/img_2.png)"
   ],
   "id": "c8d48689064b195d"
  },
  {
   "metadata": {},
   "cell_type": "markdown",
   "source": [
    "    线性代数中的向量: 抽象定义，n个标量组成的有序数列，存在于向量空间\n",
    "    通常表示为列向量，如 x = [12, 175, 60]^T （3维向量）\n",
    "![](Learn_Pictures/img_3.png)\n",
    "![](Learn_Pictures/img_4.png)"
   ],
   "id": "785ca252dd26a17a"
  },
  {
   "metadata": {},
   "cell_type": "markdown",
   "source": [
    "# 向量的计算\n",
    "    向量相等: 所有对应分量必须完全相等\n",
    "    向量加法: 对应分量相加（符合三角形法则）\n",
    "![](Learn_Pictures/img_5.png)"
   ],
   "id": "ca0e72f650af61e2"
  },
  {
   "metadata": {},
   "cell_type": "markdown",
   "source": [
    "数乘 (Scalar Multiplication): 标量对向量的每个分量进行缩放\n",
    "- 正标量: 同方向缩放\n",
    "- 负标量: 反方向缩放\n",
    "\n",
    "向量减法: 通过加法和数乘定义（a - b = a + (-1)*b）"
   ],
   "id": "e4479488c8c4f368"
  }
 ],
 "metadata": {
  "kernelspec": {
   "display_name": "Python 3",
   "language": "python",
   "name": "python3"
  },
  "language_info": {
   "codemirror_mode": {
    "name": "ipython",
    "version": 2
   },
   "file_extension": ".py",
   "mimetype": "text/x-python",
   "name": "python",
   "nbconvert_exporter": "python",
   "pygments_lexer": "ipython2",
   "version": "2.7.6"
  }
 },
 "nbformat": 4,
 "nbformat_minor": 5
}
