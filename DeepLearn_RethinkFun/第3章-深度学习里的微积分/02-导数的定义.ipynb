{
 "cells": [
  {
   "metadata": {},
   "cell_type": "markdown",
   "source": [
    "# 1. 物理与几何背景\n",
    "    - 芝诺悖论：引出瞬时变化率的概念困境\n",
    "    - 瞬时速度：位移函数在t0时刻的变化率\n",
    "         v(t0) = lim(Δt→0) [S(t0+Δt) - S(t0)]/Δt\n",
    "    - 切线斜率：函数曲线在x0点的变化率\n",
    "         m(x0) = lim(Δx→0) [f(x0+Δx) - f(x0)]/Δx"
   ],
   "id": "241748d4527e24d7"
  },
  {
   "metadata": {},
   "cell_type": "markdown",
   "source": [
    "# 2. 导数定义\n",
    "    - 核心公式：f'(x0) = lim(Δx→0) [f(x0+Δx) - f(x0)]/Δx\n",
    "    - 存在条件：该极限存在且有限\n",
    "    - 几何意义：函数曲线在该点的切线斜率\n",
    "    - 物理意义：因变量关于自变量的瞬时变化率"
   ],
   "id": "b102f7051d9ea65d"
  },
  {
   "metadata": {},
   "cell_type": "markdown",
   "source": [
    "# 3. 导数与连续的关系\n",
    "    - 可导必连续：若函数在某点可导，则在该点必然连续\n",
    "    - 连续未必可导：反例 y=|x| 在x=0处连续但不可导"
   ],
   "id": "db21b048585e92bd"
  },
  {
   "metadata": {},
   "cell_type": "markdown",
   "source": [
    "# 4. 单侧导数\n",
    "    - 左导数：f'_-(x0) = lim(Δx→0-) [f(x0+Δx)-f(x0)]/Δx\n",
    "    - 右导数：f'_+(x0) = lim(Δx→0+) [f(x0+Δx)-f(x0)]/Δx\n",
    "    - 可导充要条件：左导数=右导数"
   ],
   "id": "de9616d9a688d8f9"
  },
  {
   "metadata": {},
   "cell_type": "markdown",
   "source": [
    "# 5. 导数与极值\n",
    "    - 费马定理：若f在x0可导且取极值，则f'(x0)=0\n",
    "    - 应用：通过求导数为零的点寻找函数极值点"
   ],
   "id": "71f69f0a6af058b6"
  },
  {
   "metadata": {},
   "cell_type": "markdown",
   "source": [
    "# 6. 导函数\n",
    "    - 定义：f'(x) = lim(Δx→0) [f(x+Δx)-f(x)]/Δx\n",
    "    - 意义：描述函数在各点的变化率，形成新的函数"
   ],
   "id": "9fa4a035d7e58e60"
  }
 ],
 "metadata": {
  "kernelspec": {
   "display_name": "Python 3",
   "language": "python",
   "name": "python3"
  },
  "language_info": {
   "codemirror_mode": {
    "name": "ipython",
    "version": 2
   },
   "file_extension": ".py",
   "mimetype": "text/x-python",
   "name": "python",
   "nbconvert_exporter": "python",
   "pygments_lexer": "ipython2",
   "version": "2.7.6"
  }
 },
 "nbformat": 4,
 "nbformat_minor": 5
}
