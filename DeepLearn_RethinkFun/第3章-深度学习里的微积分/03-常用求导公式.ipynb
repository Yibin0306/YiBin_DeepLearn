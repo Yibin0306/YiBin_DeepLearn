{
 "cells": [
  {
   "cell_type": "code",
   "execution_count": null,
   "id": "initial_id",
   "metadata": {
    "collapsed": true
   },
   "outputs": [],
   "source": [
    "# 1. 常数函数\n",
    "#   - f(x) = C (C为常数)\n",
    "#   - f'(x) = 0\n",
    "\n",
    "# 2. 幂函数\n",
    "#   - f(x) = x^n (n为实数)\n",
    "#   - f'(x) = n*x^(n-1)\n",
    "#   - 特例：\n",
    "#        f(x) = x  → f'(x) = 1\n",
    "#        f(x) = x^2 → f'(x) = 2x\n",
    "#        f(x) = √x (x^{1/2}) → f'(x) = (1/2)x^{-1/2}\n",
    "\n",
    "# 3. 指数函数\n",
    "#   - f(x) = a^x (a>0, a≠1)\n",
    "#   - f'(x) = a^x * ln(a)\n",
    "#   - 特例：自然指数\n",
    "#        f(x) = e^x → f'(x) = e^x\n",
    "\n",
    "# 4. 对数函数\n",
    "#   - f(x) = log_a(x) (a>0, a≠1)\n",
    "#   - f'(x) = 1/(x*ln(a))\n",
    "#   - 特例：自然对数\n",
    "#        f(x) = ln(x) → f'(x) = 1/x\n",
    "\n",
    "# 5. 三角函数\n",
    "#   - f(x) = sin(x) → f'(x) = cos(x)\n",
    "#   - f(x) = cos(x) → f'(x) = -sin(x)\n",
    "#   - f(x) = tan(x) → f'(x) = sec^2(x) = 1/cos^2(x)\n",
    "\n",
    "# 6. 反三角函数\n",
    "#   - f(x) = arcsin(x) → f'(x) = 1/√(1-x^2)\n",
    "#   - f(x) = arccos(x) → f'(x) = -1/√(1-x^2)\n",
    "#   - f(x) = arctan(x) → f'(x) = 1/(1+x^2)"
   ]
  }
 ],
 "metadata": {
  "kernelspec": {
   "display_name": "Python 3",
   "language": "python",
   "name": "python3"
  },
  "language_info": {
   "codemirror_mode": {
    "name": "ipython",
    "version": 2
   },
   "file_extension": ".py",
   "mimetype": "text/x-python",
   "name": "python",
   "nbconvert_exporter": "python",
   "pygments_lexer": "ipython2",
   "version": "2.7.6"
  }
 },
 "nbformat": 4,
 "nbformat_minor": 5
}
