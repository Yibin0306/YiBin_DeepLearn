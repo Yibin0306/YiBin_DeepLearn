{
 "cells": [
  {
   "metadata": {},
   "cell_type": "code",
   "outputs": [],
   "execution_count": null,
   "source": [
    "# ===== 导数运算法则 =====\n",
    "\n",
    "# 1. 函数和差求导法则\n",
    "#   - 如果 u(x) 和 v(x) 可导，则 [u(x) ± v(x)]' = u'(x) ± v'(x)\n",
    "#   - 证明基于导数定义，极限的线性性质\n",
    "\n",
    "# 2. 函数积的求导法则\n",
    "#   - 如果 u(x) 和 v(x) 可导，则 [u(x)v(x)]' = u'(x)v(x) + u(x)v'(x)\n",
    "#   - 推论：常数倍函数 [C*g(x)]' = C*g'(x)\n",
    "\n",
    "# 3. 函数商的求导法则\n",
    "#   - 如果 u(x) 和 v(x) 可导，且 v(x) ≠ 0，则 [u(x)/v(x)]' = [u'(x)v(x) - u(x)v'(x)] / [v(x)]^2\n",
    "#   - 证明通过分子有理化和极限运算\n",
    "\n",
    "# 4. 链式法则（复合函数求导）\n",
    "#   - 如果 y = f(u) 且 u = g(x) 可导，则 dy/dx = dy/du * du/dx\n",
    "#   - 或 f'(x) = f'(u) * g'(x)\n",
    "#   - 直观理解：汇率链式相乘（人民币→美元→比特币）\n",
    "\n",
    "# 5. 例题应用\n",
    "#   - f(x) = (e^x sin x + 3x)^2 的求导过程：\n",
    "#       1. 设 u = e^x sin x + 3x，则 f(u) = u^2\n",
    "#       2. 应用链式法则：f'(x) = 2u * u'\n",
    "#       3. 求 u' = (e^x sin x)' + (3x)' = e^x sin x + e^x cos x + 3\n",
    "#       4. 最终结果：f'(x) = 2(e^x sin x + 3x)(e^x sin x + e^x cos x + 3)"
   ],
   "id": "5cbab3656d29c651"
  }
 ],
 "metadata": {
  "kernelspec": {
   "display_name": "Python 3",
   "language": "python",
   "name": "python3"
  },
  "language_info": {
   "codemirror_mode": {
    "name": "ipython",
    "version": 2
   },
   "file_extension": ".py",
   "mimetype": "text/x-python",
   "name": "python",
   "nbconvert_exporter": "python",
   "pygments_lexer": "ipython2",
   "version": "2.7.6"
  }
 },
 "nbformat": 4,
 "nbformat_minor": 5
}
