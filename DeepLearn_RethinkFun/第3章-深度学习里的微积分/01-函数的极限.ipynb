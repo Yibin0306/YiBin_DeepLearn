{
 "cells": [
  {
   "metadata": {},
   "cell_type": "markdown",
   "source": [
    "# 1. 函数趋于无穷大的极限\n",
    "    - 定义：对于函数 f(x)，当 x → +∞ 时，如果存在实数 A，使得对于任意 ε > 0，\n",
    "            都存在 x0，当 x > x0 时，|f(x) - A| < ε，则称 lim(x→+∞) f(x) = A\n",
    "    - 示例：lim(x→+∞) 1/x = 0\n",
    " ![](Learn_Pictures/img.png)"
   ],
   "id": "b9dd42508be10e6a"
  },
  {
   "metadata": {},
   "cell_type": "markdown",
   "source": [
    "# 2. 函数趋于一点的极限\n",
    "     - 定义：对于函数 f(x)，当 x → x0 时，如果存在实数 A，使得对于任意 ε > 0，\n",
    "           都存在 δ > 0，当 0 < |x - x0| < δ 时，|f(x) - A| < ε，则称 lim(x→x0) f(x) = A\n",
    "    - 注意：x0 点可能不在定义域内（去心邻域）\n",
    "  ![](Learn_Pictures/img_1.png)"
   ],
   "id": "7e9e219fd0ee52fd"
  },
  {
   "metadata": {},
   "cell_type": "markdown",
   "source": [
    "# 3. 无穷小\n",
    "    - 定义：在某个极限过程中趋于 0 但不等于 0 的量\n",
    "    - 示例：当 x → 0 时，x 和 x² 都是无穷小"
   ],
   "id": "4caf287a29b6e7df"
  },
  {
   "metadata": {},
   "cell_type": "markdown",
   "source": [
    "# 4. 高阶无穷小\n",
    "    - 定义：如果 lim(x→0) f(x)/g(x) = 0，则称 f(x) 是比 g(x) 高阶的无穷小，记作 f(x) = o(g(x))\n",
    "    - 示例：当 x → 0 时，x² 是比 x 高阶的无穷小（因为 x²/x → 0）\n",
    "    - 同阶无穷小：如果极限为常数而非零，则称为同阶无穷小"
   ],
   "id": "96c0333b76e82f39"
  }
 ],
 "metadata": {
  "kernelspec": {
   "display_name": "Python 3",
   "language": "python",
   "name": "python3"
  },
  "language_info": {
   "codemirror_mode": {
    "name": "ipython",
    "version": 2
   },
   "file_extension": ".py",
   "mimetype": "text/x-python",
   "name": "python",
   "nbconvert_exporter": "python",
   "pygments_lexer": "ipython2",
   "version": "2.7.6"
  }
 },
 "nbformat": 4,
 "nbformat_minor": 5
}
