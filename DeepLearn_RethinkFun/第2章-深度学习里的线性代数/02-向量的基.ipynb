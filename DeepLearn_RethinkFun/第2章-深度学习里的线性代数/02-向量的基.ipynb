{
 "cells": [
  {
   "metadata": {},
   "cell_type": "markdown",
   "source": [
    "# 1. 标准基\n",
    "    - 二维空间标准基: i = [1, 0]^T, j = [0, 1]^T\n",
    "    - 三维空间标准基: i = [1,0,0]^T, j = [0,1,0]^T, k = [0,0,1]^T\n",
    "    - 特点:\n",
    "         1. 每个基向量长度均为1\n",
    "         2. 彼此互相垂直（正交）\n",
    "         3. 位于不同坐标轴上\n",
    "    - 表示原理: 任意向量可表示为基向量的线性组合\n",
    "         例: [3,2]^T = 3*i + 2*j\n",
    " ![](Learn_Pictures/img_6.png)"
   ],
   "id": "f9202aea63b855ec"
  },
  {
   "metadata": {},
   "cell_type": "markdown",
   "source": [
    "# 2. 一般基\n",
    "    - 定义: 非标准正交的基向量组\n",
    "         例: a = [2,1]^T, b = [-1,1]^T\n",
    "    - 张成空间: 一组向量所有线性组合构成的向量空间\n",
    "    - 基的要求: 必须能张成整个目标向量空间\n",
    "  ![](Learn_Pictures/img_7.png)"
   ],
   "id": "51f57adbc0b0998e"
  },
  {
   "metadata": {},
   "cell_type": "markdown",
   "source": [
    "# 3. 线性相关\n",
    "    - 定义: 若向量组中存在向量可表示为其他向量的线性组合\n",
    "    - 例: a = [2,2]^T, b = [1,1]^T (a = 2*b)\n",
    "    - 线性无关: 没有向量可表示为其他向量的线性组合\n",
    "   ![](Learn_Pictures/img_8.png)"
   ],
   "id": "5deb8051678e7131"
  },
  {
   "metadata": {},
   "cell_type": "markdown",
   "source": [
    "# 4. 基的正式定义\n",
    "    - 基: 张成向量空间的一组线性无关向量\n",
    "    - 核心特性:\n",
    "         1. 线性无关\n",
    "         2. 能张成整个目标向量空间"
   ],
   "id": "dfd2423966dfd10"
  },
  {
   "metadata": {},
   "cell_type": "markdown",
   "source": [
    "# 5. 高维空间中的基\n",
    "    - n维标准基: n个相互正交的单位向量\n",
    "    - 张成空间维度:\n",
    "         m个向量张成的空间维度 ≤ min(m, n)\n",
    "         - 三维空间中:\n",
    "             3个线性无关向量 → 张成整个三维空间\n",
    "             2个线性无关向量 → 张成二维平面\n",
    "             共线向量 → 张成一维直线\n",
    "             零向量 → 零点"
   ],
   "id": "8714eb08a1e4d492"
  }
 ],
 "metadata": {
  "kernelspec": {
   "display_name": "Python 3",
   "language": "python",
   "name": "python3"
  },
  "language_info": {
   "codemirror_mode": {
    "name": "ipython",
    "version": 2
   },
   "file_extension": ".py",
   "mimetype": "text/x-python",
   "name": "python",
   "nbconvert_exporter": "python",
   "pygments_lexer": "ipython2",
   "version": "2.7.6"
  }
 },
 "nbformat": 4,
 "nbformat_minor": 5
}
