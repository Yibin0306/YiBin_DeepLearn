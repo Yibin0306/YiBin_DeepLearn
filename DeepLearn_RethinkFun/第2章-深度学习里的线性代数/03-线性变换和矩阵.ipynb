{
 "cells": [
  {
   "metadata": {},
   "cell_type": "markdown",
   "source": [
    "# 1. 线性变换\n",
    "    - 定义：一种将向量映射到向量的函数，保持向量加法和数乘性质\n",
    "    - 性质：\n",
    "         1. 可加性：T(u + v) = T(u) + T(v)\n",
    "         2. 齐次性：T(cv) = cT(v)\n",
    "    - 特性：保持直线性质（直线变换后仍为直线），原点保持不变\n",
    "    - 表示方法：由其对基向量的变换结果完全定义\n",
    " ![](./Learn_Pictures/img_9.png)"
   ],
   "id": "886d442133d68a18"
  },
  {
   "metadata": {},
   "cell_type": "markdown",
   "source": [
    "# 2. 矩阵表示线性变换\n",
    "    - 矩阵的列就是变换后的基向量\n",
    "    - 示例：沿y轴镜像变换矩阵：\n",
    "         A = [[-1, 0], [0, 1]]\n",
    "    - 示例：90度逆时针旋转矩阵：\n",
    "         A = [[0, -1], [1, 0]]\n",
    "    - 单位矩阵：I = [[1,0,0],[0,1,0],[0,0,1]]（恒等变换）\n",
    "  ![](./Learn_Pictures/img_10.png)"
   ],
   "id": "bb99c97239b5ad0c"
  },
  {
   "metadata": {},
   "cell_type": "markdown",
   "source": [
    "# 3. 矩阵乘法\n",
    "    - 本质：线性变换的复合\n",
    "    - 维度规则：若A是m×n矩阵，B是n×p矩阵，则AB是m×p矩阵\n",
    "    - 两种视角：\n",
    "         列视角：用B的列向量分量对A的列向量进行线性组合\n",
    "         行视角：用A的行向量分量对B的行向量进行线性组合"
   ],
   "id": "2c2bad2319d84dea"
  },
  {
   "metadata": {},
   "cell_type": "markdown",
   "source": [
    "# 4. 矩阵转置\n",
    "    - 操作：将矩阵的行列互换（A[i,j] → A^T[j,i]）\n",
    "    - 示例：A = [[1,2,3],[4,5,6]] → A^T = [[1,4],[2,5],[3,6]]"
   ],
   "id": "f4d7c5815b553455"
  },
  {
   "metadata": {},
   "cell_type": "markdown",
   "source": [
    "# 5. 非方阵的线性变换\n",
    "    - 可实现维度变换：2×3矩阵可将3维向量映射到2维空间\n",
    "    - 3×2矩阵可将2维向量映射到3维空间"
   ],
   "id": "7a6c3440d21aaf3e"
  },
  {
   "metadata": {},
   "cell_type": "markdown",
   "source": [
    "# 6. 深度学习中的矩阵\n",
    "    - 两种作用：\n",
    "         1. 存储数据向量（如特征向量：[年龄,身高,体重]）\n",
    "         2. 存储参数（作为线性变换函数）\n",
    "    - 实践：在神经网络中，权重矩阵就是对输入特征进行的线性变换"
   ],
   "id": "939b36d8291c3464"
  }
 ],
 "metadata": {
  "kernelspec": {
   "display_name": "Python 3",
   "language": "python",
   "name": "python3"
  },
  "language_info": {
   "codemirror_mode": {
    "name": "ipython",
    "version": 2
   },
   "file_extension": ".py",
   "mimetype": "text/x-python",
   "name": "python",
   "nbconvert_exporter": "python",
   "pygments_lexer": "ipython2",
   "version": "2.7.6"
  }
 },
 "nbformat": 4,
 "nbformat_minor": 5
}
