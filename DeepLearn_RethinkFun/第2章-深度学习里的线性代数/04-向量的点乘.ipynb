{
 "cells": [
  {
   "metadata": {},
   "cell_type": "markdown",
   "source": [
    "# 1. 物理背景（功的计算）\n",
    "    - 功 W = |f||s|cosθ = f·s\n",
    "    - 本质：将力向量投影到位移方向上的分量与位移大小的乘积\n",
    "  ![](./Learn_Pictures/img_11.png)"
   ],
   "id": "7afc502065d72815"
  },
  {
   "metadata": {},
   "cell_type": "markdown",
   "source": [
    "# 2. 点乘定义\n",
    "    - 数学定义：a·b = |a||b|cosθ\n",
    "    - 几何意义：两个向量的模长与夹角余弦的乘积\n",
    "    - 对称性：a·b = b·a"
   ],
   "id": "bcb1009705397f67"
  },
  {
   "metadata": {},
   "cell_type": "markdown",
   "source": [
    "# 3. 点乘性质\n",
    "    - 交换律：a·b = b·a\n",
    "    - 数乘结合律：(λa)·b = a·(λb) = λ(a·b)\n",
    "    - 分配律：(a + b)·c = a·c + b·c"
   ],
   "id": "693ad7c9d127d4d0"
  },
  {
   "metadata": {},
   "cell_type": "markdown",
   "source": [
    "# 4. 点乘计算公式\n",
    "    - 分量计算公式：a·b = Σ(a_i * b_i)\n",
    "    - 推导原理：基于标准基向量的点乘特性（i·i=1, i·j=0等）\n",
    "    - 通用公式：适用于任意"
   ],
   "id": "54674381176f973d"
  },
  {
   "metadata": {},
   "cell_type": "markdown",
   "source": [
    "# 5. 在深度学习中的应用\n",
    "    - 余弦相似度：cosθ = (a·b)/(|a||b|)\n",
    "    - 特征归一化：当|a|=|b|=1时，cosθ = a·b\n",
    "    - 应用场景：\n",
    "         1. 人脸识别：通过点乘计算人脸特征向量的相似度\n",
    "         2. 推荐系统：计算用户/物品向量的相似度\n",
    "    - 优势：\n",
    "         1. 计算高效（简单向量运算）\n",
    "         2. 跨维度可比性（结果在[-1,1]区间）\n",
    "         3. 方向敏感性（捕捉向量方向关系）"
   ],
   "id": "f5a444568d924cbf"
  }
 ],
 "metadata": {
  "kernelspec": {
   "display_name": "Python 3",
   "language": "python",
   "name": "python3"
  },
  "language_info": {
   "codemirror_mode": {
    "name": "ipython",
    "version": 2
   },
   "file_extension": ".py",
   "mimetype": "text/x-python",
   "name": "python",
   "nbconvert_exporter": "python",
   "pygments_lexer": "ipython2",
   "version": "2.7.6"
  }
 },
 "nbformat": 4,
 "nbformat_minor": 5
}
