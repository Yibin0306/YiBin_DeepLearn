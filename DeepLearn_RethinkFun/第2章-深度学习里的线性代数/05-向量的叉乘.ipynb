{
 "cells": [
  {
   "metadata": {},
   "cell_type": "markdown",
   "source": [
    "# 1. 物理背景（力矩）\n",
    "    - 力矩 M = |P||F|sinθ\n",
    "    - 影响因素：\n",
    "         1. 力臂长度 |P|\n",
    "         2. 力的大小 |F|\n",
    "         3. 力与力臂夹角（sinθ）\n",
    "    - 右手法则：确定力矩方向（旋转方向）\n",
    "  ![](./Learn_Pictures/img_12.png)"
   ],
   "id": "36d4f515bad0fddc"
  },
  {
   "metadata": {},
   "cell_type": "markdown",
   "source": [
    "# 2. 叉乘定义\n",
    "    - 数学定义：a×b = |a||b|sinθ * n（n为右手法则确定的单位法向量）\n",
    "    - 几何意义：结果向量模长等于以a,b为边的平行四边形面积\n",
    "    - 方向特性：垂直于a,b所在平面，符合"
   ],
   "id": "b83b4570e9bf024e"
  },
  {
   "metadata": {},
   "cell_type": "markdown",
   "source": [
    "# 3. 叉乘性质\n",
    "    - 反交换律：a×b = - (b×a)\n",
    "    - 分配律：(a + b)×c = a×c + b×c\n",
    "    - 数乘结合律：数乘结合律：(λa)×b = a×(λb) = λ(a×b)"
   ],
   "id": "67c211800db25d56"
  },
  {
   "metadata": {},
   "cell_type": "markdown",
   "source": [
    "# 4. 叉乘计算公式（三维空间）\n",
    "    - 分量形式：\n",
    "         a×b = [a_y*b_z - a_z*b_y,\n",
    "                a_z*b_x - a_x*b_z,\n",
    "                a_x*b_y - a_y*b_x]\n",
    "    - 矩阵形式：\n",
    "         a×b = det| i     j     k  |\n",
    "                  | a_x  a_y   a_z |\n",
    "                  | b_x  b_y   b_z |"
   ],
   "id": "fa72fcb64b627c62"
  },
  {
   "metadata": {},
   "cell_type": "markdown",
   "source": [
    "# 5. 叉乘的作用\n",
    "    - 求法向量：叉乘结果垂直于原始两向量所在平面\n",
    "    - 计算面积：|a×b|等于以a,b为邻边的平行四边形面积\n",
    "    - 物理应用：计算力矩、角动量等\n",
    "    - 图形学应用：计算表面法线、旋转等"
   ],
   "id": "1e2d1918702430f9"
  }
 ],
 "metadata": {
  "kernelspec": {
   "display_name": "Python 3",
   "language": "python",
   "name": "python3"
  },
  "language_info": {
   "codemirror_mode": {
    "name": "ipython",
    "version": 2
   },
   "file_extension": ".py",
   "mimetype": "text/x-python",
   "name": "python",
   "nbconvert_exporter": "python",
   "pygments_lexer": "ipython2",
   "version": "2.7.6"
  }
 },
 "nbformat": 4,
 "nbformat_minor": 5
}
