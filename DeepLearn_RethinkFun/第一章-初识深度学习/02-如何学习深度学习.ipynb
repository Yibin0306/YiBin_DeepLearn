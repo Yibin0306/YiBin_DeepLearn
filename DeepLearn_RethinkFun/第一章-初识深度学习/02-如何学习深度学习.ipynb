{
 "cells": [
  {
   "cell_type": "code",
   "execution_count": null,
   "id": "initial_id",
   "metadata": {
    "collapsed": true
   },
   "outputs": [],
   "source": [
    "# ===== 深度学习里的数学 =====\n",
    "# 常见误区：学习深度学习前必须精通微积分、线性代数和概率统计，但这往往消耗学习热情\n",
    "# 建议方法：\n",
    "#   - 先掌握基本数学知识，然后快速进入深度学习实践\n",
    "#   - 在遇到具体算法需求时，再针对性查漏补缺数学知识\n",
    "#   - 本书将从零开始讲解必要的数学知识，避免过度深入不必要的内容\n",
    "\n",
    "# ===== 我对学习的理解 =====\n",
    "# 学习本质：是一个说服自己的过程，新知识需与现有知识体系融合并无矛盾\n",
    "# 学习特点：\n",
    "#   - 较真的人可能需要更多时间验证新知识，但一旦理解会更扎实\n",
    "#   - 不要气馁，坚持解决疑惑，知识将发挥更大作用\n",
    "\n",
    "# ===== 本书如何带你学习深度学习 =====\n",
    "# 教学方法：\n",
    "#   - 用简单有趣的方式讲解深度学习核心原理，避免弯路\n",
    "#   - 结合PyTorch框架实现各种深度学习算法\n",
    "# 学习目标：\n",
    "#   - 深刻理解算法原理，具备编程实现能力\n",
    "#   - 为从事深度学习研究打下坚实基础"
   ]
  }
 ],
 "metadata": {
  "kernelspec": {
   "display_name": "Python 3",
   "language": "python",
   "name": "python3"
  },
  "language_info": {
   "codemirror_mode": {
    "name": "ipython",
    "version": 2
   },
   "file_extension": ".py",
   "mimetype": "text/x-python",
   "name": "python",
   "nbconvert_exporter": "python",
   "pygments_lexer": "ipython2",
   "version": "2.7.6"
  }
 },
 "nbformat": 4,
 "nbformat_minor": 5
}
