{
 "cells": [
  {
   "cell_type": "code",
   "execution_count": null,
   "id": "initial_id",
   "metadata": {
    "collapsed": true
   },
   "outputs": [],
   "source": [
    "# ===== 人工智能、机器学习与深度学习的关系 =====\n",
    "\n",
    "# 1. 人工智能 (AI)\n",
    "# 定义：让机器模拟人类智能行为的科学与工程\n",
    "# 特点：\n",
    "#   - 目标：使机器具备感知、推理、决策、语言理解等能力\n",
    "#   - 实现方式：既包含基于规则的逻辑推理，也包含数据驱动方法\n",
    "# 典型应用：\n",
    "#   - 专家系统：通过预定义规则模拟专家决策（如医疗诊断系统）\n",
    "#   - 知识图谱：通过实体关系网络实现逻辑推理（如案情分析系统）\n",
    "\n",
    "# 2. 机器学习 (ML) - AI的子集\n",
    "# 定义：使机器从数据中自动学习规律的方法\n",
    "# 核心特征：\n",
    "#   - 与传统程序的区别：\n",
    "#       传统程序：人类编写明确规则（if-else逻辑）\n",
    "#       机器学习：从数据中自动归纳规则（输入→输出映射）\n",
    "#   - 优势：解决规则不明确的问题（如图像识别）\n",
    "#   - 局限性：决策逻辑不可解释，存在错误风险\n",
    "# 典型场景：\n",
    "#   - 适用：规则难以形式化的问题（如猫狗识别）\n",
    "#   - 不适用：规则明确的高风险场景（如航天控制）\n",
    "# 代表案例：AlphaGo（通过棋谱数据学习围棋策略）\n",
    "\n",
    "# 3. 深度学习 (DL) - ML的子集\n",
    "# 定义：基于深层神经网络架构的机器学习方法\n",
    "# 核心特征：\n",
    "#   - \"深度\"：指神经网络的多层结构\n",
    "#   - 优势：在视觉、语音、NLP等领域实现突破性进展\n",
    "#   - 代表成果：大语言模型（如ChatGPT）、计算机视觉模型\n",
    "# 技术定位：当前AI领域最活跃且效果最优的技术分支\n",
    "\n",
    "# ===== 层级关系 =====\n",
    "# 人工智能 ⊇ 机器学习 ⊇ 深度学习\n",
    "# (AI包含ML，ML包含DL)"
   ]
  },
  {
   "metadata": {},
   "cell_type": "markdown",
   "source": "![](Learn_Pictures/img.png)",
   "id": "e257a93caee00b43"
  }
 ],
 "metadata": {
  "kernelspec": {
   "display_name": "Python 3",
   "language": "python",
   "name": "python3"
  },
  "language_info": {
   "codemirror_mode": {
    "name": "ipython",
    "version": 2
   },
   "file_extension": ".py",
   "mimetype": "text/x-python",
   "name": "python",
   "nbconvert_exporter": "python",
   "pygments_lexer": "ipython2",
   "version": "2.7.6"
  }
 },
 "nbformat": 4,
 "nbformat_minor": 5
}
